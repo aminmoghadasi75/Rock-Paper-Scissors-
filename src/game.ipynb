{
 "cells": [
  {
   "cell_type": "markdown",
   "metadata": {},
   "source": [
    "- get player choice\n",
    "- get Computer choice\n",
    "- detecting the winner\n",
    "- would you want play again ?"
   ]
  },
  {
   "cell_type": "code",
   "execution_count": 19,
   "metadata": {},
   "outputs": [],
   "source": [
    "import random\n",
    "\n",
    "class RockPaperScissors :\n",
    "    def __init__(self, name ) :\n",
    "        self.choices = ['rock' , 'paper', 'scissors']\n",
    "        self.player = name\n",
    "\n",
    "        # Get_User_Input\n",
    "    def get_user_choice(self) :\n",
    "        while True :\n",
    "            user_input = input(f'Enter Your Choice ! {self.choices} or type \"q\" to quit').lower()\n",
    "            if user_input in self.choices :\n",
    "                return user_input\n",
    "            elif user_input == 'q' :\n",
    "                break\n",
    "            else :\n",
    "                print(f'Your Choice is Invalid ! Please select between {self.choices}')\n",
    "                continue\n",
    "\n",
    "        # Get_Computer_Input\n",
    "    def get_computer_choice(self):\n",
    "        pc_input = random.choice(self.choices)\n",
    "        return pc_input\n",
    "        # Detecting_Winner\n",
    "    def detecting_winner(self,user,pc):\n",
    "        if user == pc :\n",
    "            return 'Similar choice! no winner'\n",
    "        else :\n",
    "            win_condition = [('paper','rock'), ('rock', 'scissors'), ('scissors', 'paper')]\n",
    "            for condition in win_condition :\n",
    "                if condition[0] == user and condition[1] == pc :\n",
    "                    return f'congratulations! {self.player} won the game !'\n",
    "                else :\n",
    "                    return 'Fuck ! Computer won the game :/ '\n",
    "\n",
    "        # Play_Function\n",
    "    def play(self):\n",
    "        user_choice = self.get_user_choice()\n",
    "        pc_choice = self.get_computer_choice()\n",
    "        print(f'{self.player} has picked = {user_choice}')\n",
    "        print(f'Computer has picked = {pc_choice}')\n",
    "        winner = self.detecting_winner(user_choice, pc_choice)\n",
    "        print(winner)"
   ]
  },
  {
   "cell_type": "code",
   "execution_count": 22,
   "metadata": {},
   "outputs": [
    {
     "name": "stdout",
     "output_type": "stream",
     "text": [
      "Hi amin\n",
      "paper\n",
      "amin has picked = paper\n",
      "Computer has picked = paper\n",
      "Similar choice! no winner\n",
      "GoodBye... !\n"
     ]
    }
   ],
   "source": [
    "game = RockPaperScissors('amin')\n",
    "while True :\n",
    "    print(f'Hi {game.player}')\n",
    "    game.play()\n",
    "    play_again = input('Do you want to play again? type \"y\" to play again or \"n\" to quit ! ').lower()\n",
    "    if play_again == 'y' :\n",
    "        continue\n",
    "    else :\n",
    "        print('GoodBye... !')\n",
    "        break"
   ]
  },
  {
   "cell_type": "code",
   "execution_count": null,
   "metadata": {},
   "outputs": [],
   "source": []
  }
 ],
 "metadata": {
  "kernelspec": {
   "display_name": "machine_learning",
   "language": "python",
   "name": "python3"
  },
  "language_info": {
   "codemirror_mode": {
    "name": "ipython",
    "version": 3
   },
   "file_extension": ".py",
   "mimetype": "text/x-python",
   "name": "python",
   "nbconvert_exporter": "python",
   "pygments_lexer": "ipython3",
   "version": "3.10.13"
  }
 },
 "nbformat": 4,
 "nbformat_minor": 2
}
